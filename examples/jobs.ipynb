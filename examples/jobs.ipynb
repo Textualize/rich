{
 "cells": [
  {
   "cell_type": "code",
   "execution_count": 1,
   "metadata": {},
   "outputs": [],
   "source": [
    "from time import sleep\n",
    "from rich.panel import Panel\n",
    "from rich.progress import Progress"
   ]
  },
  {
   "cell_type": "code",
   "execution_count": 2,
   "metadata": {},
   "outputs": [],
   "source": [
    "JOBS = [100, 150, 25, 70, 110, 90]"
   ]
  },
  {
   "cell_type": "code",
   "execution_count": 3,
   "metadata": {},
   "outputs": [
    {
     "data": {
      "application/vnd.jupyter.widget-view+json": {
       "model_id": "eae33a3a6f58463c8f7fce32e96bc389",
       "version_major": 2,
       "version_minor": 0
      },
      "text/plain": [
       "Output()"
      ]
     },
     "metadata": {},
     "output_type": "display_data"
    }
   ],
   "source": [
    "progress = Progress(auto_refresh=False)\n",
    "master_task = progress.add_task(\"overall\", total=sum(JOBS))\n",
    "jobs_task = progress.add_task(\"jobs\")"
   ]
  },
  {
   "cell_type": "code",
   "execution_count": 4,
   "metadata": {},
   "outputs": [
    {
     "data": {
      "text/html": [
       "<pre style=\"white-space:pre;overflow-x:auto;line-height:normal;font-family:Menlo,'DejaVu Sans Mono',consolas,'Courier New',monospace\">╭───────────────────────────────────────────────────────────────────────────────────────────╮\n",
       "│                                                                                           │\n",
       "│ <span style=\"color: #000080; font-weight: bold\">A demonstration of progress with a current task and overall progress.</span>                     │\n",
       "│                                                                                           │\n",
       "╰───────────────────────────────────────────────────────────────────────────────────────────╯\n",
       "</pre>\n"
      ],
      "text/plain": [
       "<rich.jupyter.JupyterRenderable at 0x238bed15c70>"
      ]
     },
     "metadata": {},
     "output_type": "display_data"
    }
   ],
   "source": [
    "progress.console.print(\n",
    "    Panel(\n",
    "        \"[bold blue]A demonstration of progress with a current task and overall progress.\",\n",
    "        padding=1,\n",
    "    )\n",
    ")"
   ]
  },
  {
   "cell_type": "code",
   "execution_count": 5,
   "metadata": {},
   "outputs": [
    {
     "data": {
      "text/html": [
       "<pre style=\"white-space:pre;overflow-x:auto;line-height:normal;font-family:Menlo,'DejaVu Sans Mono',consolas,'Courier New',monospace\"><span style=\"color: #7fbfbf\">[13:40:16] </span>Starting job #<span style=\"color: #000080; font-weight: bold\">0</span>                                   <span style=\"color: #7f7f7f\">&lt;ipython-input-5-3389ef6ceb03&gt;:3</span>\n",
       "</pre>\n"
      ],
      "text/plain": [
       "<rich.jupyter.JupyterRenderable at 0x238bea44ac0>"
      ]
     },
     "metadata": {},
     "output_type": "display_data"
    },
    {
     "data": {
      "text/html": [
       "<pre style=\"white-space:pre;overflow-x:auto;line-height:normal;font-family:Menlo,'DejaVu Sans Mono',consolas,'Courier New',monospace\"><span style=\"color: #7fbfbf\">[13:40:19] </span>Job #<span style=\"color: #000080; font-weight: bold\">0</span> is complete                               <span style=\"color: #7f7f7f\">&lt;ipython-input-5-3389ef6ceb03&gt;:10</span>\n",
       "</pre>\n"
      ],
      "text/plain": [
       "<rich.jupyter.JupyterRenderable at 0x238beeea2b0>"
      ]
     },
     "metadata": {},
     "output_type": "display_data"
    },
    {
     "data": {
      "text/html": [
       "<pre style=\"white-space:pre;overflow-x:auto;line-height:normal;font-family:Menlo,'DejaVu Sans Mono',consolas,'Courier New',monospace\"><span style=\"color: #7fbfbf\">           </span>Starting job #<span style=\"color: #000080; font-weight: bold\">1</span>                                   <span style=\"color: #7f7f7f\">&lt;ipython-input-5-3389ef6ceb03&gt;:3</span>\n",
       "</pre>\n"
      ],
      "text/plain": [
       "<rich.jupyter.JupyterRenderable at 0x238beeeaa90>"
      ]
     },
     "metadata": {},
     "output_type": "display_data"
    },
    {
     "data": {
      "text/html": [
       "<pre style=\"white-space:pre;overflow-x:auto;line-height:normal;font-family:Menlo,'DejaVu Sans Mono',consolas,'Courier New',monospace\"><span style=\"color: #7fbfbf\">[13:40:24] </span>Job #<span style=\"color: #000080; font-weight: bold\">1</span> is complete                               <span style=\"color: #7f7f7f\">&lt;ipython-input-5-3389ef6ceb03&gt;:10</span>\n",
       "</pre>\n"
      ],
      "text/plain": [
       "<rich.jupyter.JupyterRenderable at 0x238bef0d1f0>"
      ]
     },
     "metadata": {},
     "output_type": "display_data"
    },
    {
     "data": {
      "text/html": [
       "<pre style=\"white-space:pre;overflow-x:auto;line-height:normal;font-family:Menlo,'DejaVu Sans Mono',consolas,'Courier New',monospace\"><span style=\"color: #7fbfbf\">           </span>Starting job #<span style=\"color: #000080; font-weight: bold\">2</span>                                   <span style=\"color: #7f7f7f\">&lt;ipython-input-5-3389ef6ceb03&gt;:3</span>\n",
       "</pre>\n"
      ],
      "text/plain": [
       "<rich.jupyter.JupyterRenderable at 0x238bef0d730>"
      ]
     },
     "metadata": {},
     "output_type": "display_data"
    },
    {
     "data": {
      "text/html": [
       "<pre style=\"white-space:pre;overflow-x:auto;line-height:normal;font-family:Menlo,'DejaVu Sans Mono',consolas,'Courier New',monospace\"><span style=\"color: #7fbfbf\">[13:40:25] </span>Job #<span style=\"color: #000080; font-weight: bold\">2</span> is complete                               <span style=\"color: #7f7f7f\">&lt;ipython-input-5-3389ef6ceb03&gt;:10</span>\n",
       "</pre>\n"
      ],
      "text/plain": [
       "<rich.jupyter.JupyterRenderable at 0x238bef20ac0>"
      ]
     },
     "metadata": {},
     "output_type": "display_data"
    },
    {
     "data": {
      "text/html": [
       "<pre style=\"white-space:pre;overflow-x:auto;line-height:normal;font-family:Menlo,'DejaVu Sans Mono',consolas,'Courier New',monospace\"><span style=\"color: #7fbfbf\">           </span>Starting job #<span style=\"color: #000080; font-weight: bold\">3</span>                                   <span style=\"color: #7f7f7f\">&lt;ipython-input-5-3389ef6ceb03&gt;:3</span>\n",
       "</pre>\n"
      ],
      "text/plain": [
       "<rich.jupyter.JupyterRenderable at 0x238bef20880>"
      ]
     },
     "metadata": {},
     "output_type": "display_data"
    },
    {
     "data": {
      "text/html": [
       "<pre style=\"white-space:pre;overflow-x:auto;line-height:normal;font-family:Menlo,'DejaVu Sans Mono',consolas,'Courier New',monospace\"><span style=\"color: #7fbfbf\">[13:40:27] </span>Job #<span style=\"color: #000080; font-weight: bold\">3</span> is complete                               <span style=\"color: #7f7f7f\">&lt;ipython-input-5-3389ef6ceb03&gt;:10</span>\n",
       "</pre>\n"
      ],
      "text/plain": [
       "<rich.jupyter.JupyterRenderable at 0x238bef20640>"
      ]
     },
     "metadata": {},
     "output_type": "display_data"
    },
    {
     "data": {
      "text/html": [
       "<pre style=\"white-space:pre;overflow-x:auto;line-height:normal;font-family:Menlo,'DejaVu Sans Mono',consolas,'Courier New',monospace\"><span style=\"color: #7fbfbf\">           </span>Starting job #<span style=\"color: #000080; font-weight: bold\">4</span>                                   <span style=\"color: #7f7f7f\">&lt;ipython-input-5-3389ef6ceb03&gt;:3</span>\n",
       "</pre>\n"
      ],
      "text/plain": [
       "<rich.jupyter.JupyterRenderable at 0x238bef20490>"
      ]
     },
     "metadata": {},
     "output_type": "display_data"
    },
    {
     "data": {
      "text/html": [
       "<pre style=\"white-space:pre;overflow-x:auto;line-height:normal;font-family:Menlo,'DejaVu Sans Mono',consolas,'Courier New',monospace\"><span style=\"color: #7fbfbf\">[13:40:31] </span>Job #<span style=\"color: #000080; font-weight: bold\">4</span> is complete                               <span style=\"color: #7f7f7f\">&lt;ipython-input-5-3389ef6ceb03&gt;:10</span>\n",
       "</pre>\n"
      ],
      "text/plain": [
       "<rich.jupyter.JupyterRenderable at 0x238bef38a60>"
      ]
     },
     "metadata": {},
     "output_type": "display_data"
    },
    {
     "data": {
      "text/html": [
       "<pre style=\"white-space:pre;overflow-x:auto;line-height:normal;font-family:Menlo,'DejaVu Sans Mono',consolas,'Courier New',monospace\"><span style=\"color: #7fbfbf\">           </span>Starting job #<span style=\"color: #000080; font-weight: bold\">5</span>                                   <span style=\"color: #7f7f7f\">&lt;ipython-input-5-3389ef6ceb03&gt;:3</span>\n",
       "</pre>\n"
      ],
      "text/plain": [
       "<rich.jupyter.JupyterRenderable at 0x238bef38a30>"
      ]
     },
     "metadata": {},
     "output_type": "display_data"
    },
    {
     "data": {
      "text/html": [
       "<pre style=\"white-space:pre;overflow-x:auto;line-height:normal;font-family:Menlo,'DejaVu Sans Mono',consolas,'Courier New',monospace\"><span style=\"color: #7fbfbf\">[13:40:34] </span>Job #<span style=\"color: #000080; font-weight: bold\">5</span> is complete                               <span style=\"color: #7f7f7f\">&lt;ipython-input-5-3389ef6ceb03&gt;:10</span>\n",
       "</pre>\n"
      ],
      "text/plain": [
       "<rich.jupyter.JupyterRenderable at 0x238bef47fd0>"
      ]
     },
     "metadata": {},
     "output_type": "display_data"
    },
    {
     "data": {
      "text/html": [
       "<pre style=\"white-space:pre;overflow-x:auto;line-height:normal;font-family:Menlo,'DejaVu Sans Mono',consolas,'Courier New',monospace\"><span style=\"color: #7fbfbf\">           </span><span style=\"color: #008000\">╭──────────────────────────────────────────────╮</span> <span style=\"color: #7f7f7f\">&lt;ipython-input-5-3389ef6ceb03&gt;:11</span>\n",
       "           <span style=\"color: #008000\">│</span>                                              <span style=\"color: #008000\">│</span>                                  \n",
       "           <span style=\"color: #008000\">│</span> ❇ All done! ❇                                <span style=\"color: #008000\">│</span>                                  \n",
       "           <span style=\"color: #008000\">│</span>                                              <span style=\"color: #008000\">│</span>                                  \n",
       "           <span style=\"color: #008000\">╰──────────────────────────────────────────────╯</span>                                  \n",
       "</pre>\n"
      ],
      "text/plain": [
       "<rich.jupyter.JupyterRenderable at 0x238bef472e0>"
      ]
     },
     "metadata": {},
     "output_type": "display_data"
    }
   ],
   "source": [
    "with progress:\n",
    "    for job_no, job in enumerate(JOBS):\n",
    "        progress.log(f\"Starting job #{job_no}\")\n",
    "        sleep(0.2)\n",
    "        progress.reset(jobs_task, total=job, description=f\"job [bold yellow]#{job_no}\")\n",
    "        progress.start_task(jobs_task)\n",
    "        for wait in progress.track(range(job), task_id=jobs_task):\n",
    "            sleep(0.01)\n",
    "        progress.advance(master_task, job)\n",
    "        progress.log(f\"Job #{job_no} is complete\")\n",
    "    progress.log(\n",
    "        Panel(\":sparkle: All done! :sparkle:\", border_style=\"green\", padding=1)\n",
    "    )"
   ]
  }
 ],
 "metadata": {
  "kernelspec": {
   "display_name": "Python 3",
   "language": "python",
   "name": "python3"
  },
  "language_info": {
   "codemirror_mode": {
    "name": "ipython",
    "version": 3
   },
   "file_extension": ".py",
   "mimetype": "text/x-python",
   "name": "python",
   "nbconvert_exporter": "python",
   "pygments_lexer": "ipython3",
   "version": "3.8.5"
  }
 },
 "nbformat": 4,
 "nbformat_minor": 2
}
