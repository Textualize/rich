{
 "cells": [
  {
   "cell_type": "markdown",
   "metadata": {},
   "source": [
    "# This example demonstrates the justify argument to print."
   ]
  },
  {
   "cell_type": "code",
   "execution_count": 1,
   "metadata": {},
   "outputs": [],
   "source": [
    "from rich.console import Console\n",
    "from rich.panel import Panel"
   ]
  },
  {
   "cell_type": "code",
   "execution_count": 2,
   "metadata": {},
   "outputs": [],
   "source": [
    "console = Console(width=20)"
   ]
  },
  {
   "cell_type": "code",
   "execution_count": 3,
   "metadata": {},
   "outputs": [
    {
     "data": {
      "text/html": [
       "<pre style=\"white-space:pre;overflow-x:auto;line-height:normal;font-family:Menlo,'DejaVu Sans Mono',consolas,'Courier New',monospace\"><span style=\"color: #c0c0c0; background-color: #800000; font-weight: bold\">╭──────╮</span>\n",
       "<span style=\"color: #c0c0c0; background-color: #800000; font-weight: bold\">│ Rich │</span>\n",
       "<span style=\"color: #c0c0c0; background-color: #800000; font-weight: bold\">╰──────╯</span>\n",
       "</pre>\n"
      ],
      "text/plain": [
       "<rich.jupyter.JupyterRenderable at 0x1a36ed6cfd0>"
      ]
     },
     "metadata": {},
     "output_type": "display_data"
    },
    {
     "data": {
      "text/html": [
       "<pre style=\"white-space:pre;overflow-x:auto;line-height:normal;font-family:Menlo,'DejaVu Sans Mono',consolas,'Courier New',monospace\"><span style=\"color: #c0c0c0; background-color: #800000; font-weight: bold\">╭──────╮</span><span style=\"color: #c0c0c0; background-color: #000080; font-weight: bold\">            </span>\n",
       "<span style=\"color: #c0c0c0; background-color: #800000; font-weight: bold\">│ Rich │</span><span style=\"color: #c0c0c0; background-color: #000080; font-weight: bold\">            </span>\n",
       "<span style=\"color: #c0c0c0; background-color: #800000; font-weight: bold\">╰──────╯</span><span style=\"color: #c0c0c0; background-color: #000080; font-weight: bold\">            </span>\n",
       "</pre>\n"
      ],
      "text/plain": [
       "<rich.jupyter.JupyterRenderable at 0x1a36eb89be0>"
      ]
     },
     "metadata": {},
     "output_type": "display_data"
    },
    {
     "data": {
      "text/html": [
       "<pre style=\"white-space:pre;overflow-x:auto;line-height:normal;font-family:Menlo,'DejaVu Sans Mono',consolas,'Courier New',monospace\"><span style=\"color: #c0c0c0; background-color: #000080; font-weight: bold\">      </span><span style=\"color: #c0c0c0; background-color: #800000; font-weight: bold\">╭──────╮</span><span style=\"color: #c0c0c0; background-color: #000080; font-weight: bold\">      </span>\n",
       "<span style=\"color: #c0c0c0; background-color: #000080; font-weight: bold\">      </span><span style=\"color: #c0c0c0; background-color: #800000; font-weight: bold\">│ Rich │</span><span style=\"color: #c0c0c0; background-color: #000080; font-weight: bold\">      </span>\n",
       "<span style=\"color: #c0c0c0; background-color: #000080; font-weight: bold\">      </span><span style=\"color: #c0c0c0; background-color: #800000; font-weight: bold\">╰──────╯</span><span style=\"color: #c0c0c0; background-color: #000080; font-weight: bold\">      </span>\n",
       "</pre>\n"
      ],
      "text/plain": [
       "<rich.jupyter.JupyterRenderable at 0x1a36ed6c3d0>"
      ]
     },
     "metadata": {},
     "output_type": "display_data"
    },
    {
     "data": {
      "text/html": [
       "<pre style=\"white-space:pre;overflow-x:auto;line-height:normal;font-family:Menlo,'DejaVu Sans Mono',consolas,'Courier New',monospace\"><span style=\"color: #c0c0c0; background-color: #000080; font-weight: bold\">            </span><span style=\"color: #c0c0c0; background-color: #800000; font-weight: bold\">╭──────╮</span>\n",
       "<span style=\"color: #c0c0c0; background-color: #000080; font-weight: bold\">            </span><span style=\"color: #c0c0c0; background-color: #800000; font-weight: bold\">│ Rich │</span>\n",
       "<span style=\"color: #c0c0c0; background-color: #000080; font-weight: bold\">            </span><span style=\"color: #c0c0c0; background-color: #800000; font-weight: bold\">╰──────╯</span>\n",
       "</pre>\n"
      ],
      "text/plain": [
       "<rich.jupyter.JupyterRenderable at 0x1a36ed6cfd0>"
      ]
     },
     "metadata": {},
     "output_type": "display_data"
    }
   ],
   "source": [
    "style = \"bold white on blue\"\n",
    "panel = Panel(\"Rich\", style=\"on red\", expand=False)\n",
    "console.print(panel, style=style)\n",
    "console.print(panel, style=style, justify=\"left\")\n",
    "console.print(panel, style=style, justify=\"center\")\n",
    "console.print(panel, style=style, justify=\"right\")"
   ]
  }
 ],
 "metadata": {
  "kernelspec": {
   "display_name": "Python 3",
   "language": "python",
   "name": "python3"
  },
  "language_info": {
   "codemirror_mode": {
    "name": "ipython",
    "version": 3
   },
   "file_extension": ".py",
   "mimetype": "text/x-python",
   "name": "python",
   "nbconvert_exporter": "python",
   "pygments_lexer": "ipython3",
   "version": "3.8.5"
  }
 },
 "nbformat": 4,
 "nbformat_minor": 2
}
