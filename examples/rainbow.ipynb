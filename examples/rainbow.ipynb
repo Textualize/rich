{
 "cells": [
  {
   "cell_type": "markdown",
   "metadata": {},
   "source": [
    "# This example demonstrates how to write a custom highlighter."
   ]
  },
  {
   "cell_type": "code",
   "execution_count": 1,
   "metadata": {},
   "outputs": [],
   "source": [
    "from random import randint\n",
    "\n",
    "from rich import print\n",
    "from rich.highlighter import Highlighter"
   ]
  },
  {
   "cell_type": "code",
   "execution_count": 2,
   "metadata": {},
   "outputs": [],
   "source": [
    "class RainbowHighlighter(Highlighter):\n",
    "    def highlight(self, text):\n",
    "        for index in range(len(text)):\n",
    "            text.stylize(f\"color({randint(16, 255)})\", index, index + 1)"
   ]
  },
  {
   "cell_type": "code",
   "execution_count": 3,
   "metadata": {},
   "outputs": [
    {
     "data": {
      "text/html": [
       "<pre style=\"white-space:pre;overflow-x:auto;line-height:normal;font-family:Menlo,'DejaVu Sans Mono',consolas,'Courier New',monospace\"><span style=\"color: #5f5fd7\">I</span><span style=\"color: #ffaf87\"> </span><span style=\"color: #af0000\">m</span><span style=\"color: #af00af\">u</span><span style=\"color: #008787\">s</span><span style=\"color: #87d787\">t </span><span style=\"color: #af875f\">n</span><span style=\"color: #5f87ff\">o</span><span style=\"color: #afaf00\">t</span><span style=\"color: #875f5f\"> </span><span style=\"color: #0087d7\">f</span><span style=\"color: #afaf5f\">e</span><span style=\"color: #d70087\">a</span><span style=\"color: #afd75f\">r</span><span style=\"color: #87afaf\">.</span><span style=\"color: #afaf5f\"> </span><span style=\"color: #87d700\">F</span><span style=\"color: #ff0087\">e</span><span style=\"color: #af5f00\">a</span><span style=\"color: #00ffff\">r</span><span style=\"color: #af00d7\"> </span><span style=\"color: #5fffd7\">i</span><span style=\"color: #d78700\">s</span><span style=\"color: #afffd7\"> </span><span style=\"color: #ffffaf\">t</span><span style=\"color: #9e9e9e\">h</span><span style=\"color: #87ffd7\">e</span><span style=\"color: #ffff87\"> </span><span style=\"color: #ffafaf\">m</span><span style=\"color: #875faf\">i</span><span style=\"color: #5fffff\">n</span><span style=\"color: #afd700\">d</span><span style=\"color: #d7afd7\">-</span><span style=\"color: #5f00ff\">k</span><span style=\"color: #d78700\">i</span><span style=\"color: #87875f\">l</span><span style=\"color: #af5fd7\">l</span><span style=\"color: #87af00\">e</span><span style=\"color: #0000d7\">r</span><span style=\"color: #5f87d7\">.</span>\n",
       "</pre>\n"
      ],
      "text/plain": [
       "<rich.jupyter.JupyterRenderable at 0x2804b026820>"
      ]
     },
     "metadata": {},
     "output_type": "display_data"
    }
   ],
   "source": [
    "rainbow = RainbowHighlighter()\n",
    "print(rainbow(\"I must not fear. Fear is the mind-killer.\"))"
   ]
  }
 ],
 "metadata": {
  "kernelspec": {
   "display_name": "Python 3",
   "language": "python",
   "name": "python3"
  },
  "language_info": {
   "codemirror_mode": {
    "name": "ipython",
    "version": 3
   },
   "file_extension": ".py",
   "mimetype": "text/x-python",
   "name": "python",
   "nbconvert_exporter": "python",
   "pygments_lexer": "ipython3",
   "version": "3.8.5"
  }
 },
 "nbformat": 4,
 "nbformat_minor": 2
}
