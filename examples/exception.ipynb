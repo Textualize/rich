{
 "cells": [
  {
   "cell_type": "markdown",
   "metadata": {},
   "source": [
    "# Basic example to show how to print an traceback of an exception"
   ]
  },
  {
   "cell_type": "code",
   "execution_count": 1,
   "metadata": {},
   "outputs": [],
   "source": [
    "from typing import List, Tuple\n",
    "from rich.console import Console"
   ]
  },
  {
   "cell_type": "code",
   "execution_count": 2,
   "metadata": {},
   "outputs": [],
   "source": [
    "console = Console()"
   ]
  },
  {
   "cell_type": "code",
   "execution_count": 3,
   "metadata": {},
   "outputs": [],
   "source": [
    "def divide_by(number: float, divisor: float) -> float:\n",
    "    \"\"\"Divide any number by zero.\"\"\"\n",
    "    # Will throw a ZeroDivisionError if divisor is 0\n",
    "    result = number / divisor\n",
    "    return result"
   ]
  },
  {
   "cell_type": "code",
   "execution_count": 4,
   "metadata": {},
   "outputs": [],
   "source": [
    "def divide_all(divides: List[Tuple[float, float]]) -> None:\n",
    "    \"\"\"Do something impossible every day.\"\"\"\n",
    "    try:\n",
    "        for number, divisor in divides:\n",
    "            result = divide_by(number, divisor)\n",
    "            console.print(f\"{number} divided by {divisor} is {result}\")\n",
    "    except Exception:\n",
    "        console.print_exception(extra_lines=5, show_locals=True)"
   ]
  },
  {
   "cell_type": "code",
   "execution_count": 5,
   "metadata": {},
   "outputs": [],
   "source": [
    "DIVIDES = [\n",
    "    (1000, 200),\n",
    "    (10000, 500),\n",
    "    (0, 1000000),\n",
    "    (3.1427, 2),\n",
    "    (2 ** 32, 2 ** 16),\n",
    "    (1, 0),\n",
    "]"
   ]
  },
  {
   "cell_type": "code",
   "execution_count": 6,
   "metadata": {},
   "outputs": [
    {
     "data": {
      "text/html": [
       "<pre style=\"white-space:pre;overflow-x:auto;line-height:normal;font-family:Menlo,'DejaVu Sans Mono',consolas,'Courier New',monospace\"><span style=\"color: #000080; font-weight: bold\">1000</span> divided by <span style=\"color: #000080; font-weight: bold\">200</span> is <span style=\"color: #000080; font-weight: bold\">5.0</span>\n",
       "</pre>\n"
      ],
      "text/plain": [
       "<rich.jupyter.JupyterRenderable at 0x1d64090a8b0>"
      ]
     },
     "metadata": {},
     "output_type": "display_data"
    },
    {
     "data": {
      "text/html": [
       "<pre style=\"white-space:pre;overflow-x:auto;line-height:normal;font-family:Menlo,'DejaVu Sans Mono',consolas,'Courier New',monospace\"><span style=\"color: #000080; font-weight: bold\">10000</span> divided by <span style=\"color: #000080; font-weight: bold\">500</span> is <span style=\"color: #000080; font-weight: bold\">20.0</span>\n",
       "</pre>\n"
      ],
      "text/plain": [
       "<rich.jupyter.JupyterRenderable at 0x1d640904ac0>"
      ]
     },
     "metadata": {},
     "output_type": "display_data"
    },
    {
     "data": {
      "text/html": [
       "<pre style=\"white-space:pre;overflow-x:auto;line-height:normal;font-family:Menlo,'DejaVu Sans Mono',consolas,'Courier New',monospace\"><span style=\"color: #000080; font-weight: bold\">0</span> divided by <span style=\"color: #000080; font-weight: bold\">1000000</span> is <span style=\"color: #000080; font-weight: bold\">0.0</span>\n",
       "</pre>\n"
      ],
      "text/plain": [
       "<rich.jupyter.JupyterRenderable at 0x1d640904ac0>"
      ]
     },
     "metadata": {},
     "output_type": "display_data"
    },
    {
     "data": {
      "text/html": [
       "<pre style=\"white-space:pre;overflow-x:auto;line-height:normal;font-family:Menlo,'DejaVu Sans Mono',consolas,'Courier New',monospace\"><span style=\"color: #000080; font-weight: bold\">3.1427</span> divided by <span style=\"color: #000080; font-weight: bold\">2</span> is <span style=\"color: #000080; font-weight: bold\">1.57135</span>\n",
       "</pre>\n"
      ],
      "text/plain": [
       "<rich.jupyter.JupyterRenderable at 0x1d64093d580>"
      ]
     },
     "metadata": {},
     "output_type": "display_data"
    },
    {
     "data": {
      "text/html": [
       "<pre style=\"white-space:pre;overflow-x:auto;line-height:normal;font-family:Menlo,'DejaVu Sans Mono',consolas,'Courier New',monospace\"><span style=\"color: #000080; font-weight: bold\">4294967296</span> divided by <span style=\"color: #000080; font-weight: bold\">65536</span> is <span style=\"color: #000080; font-weight: bold\">65536.0</span>\n",
       "</pre>\n"
      ],
      "text/plain": [
       "<rich.jupyter.JupyterRenderable at 0x1d64090a8b0>"
      ]
     },
     "metadata": {},
     "output_type": "display_data"
    },
    {
     "data": {
      "text/html": [
       "<pre style=\"white-space:pre;overflow-x:auto;line-height:normal;font-family:Menlo,'DejaVu Sans Mono',consolas,'Courier New',monospace\"><span style=\"color: #ff0000\">╭──────────────────────────── </span><span style=\"color: #800000; font-weight: bold\">Traceback </span><span style=\"color: #bf7f7f; font-weight: bold\">(most recent call last)</span><span style=\"color: #ff0000\"> ────────────────────────────╮</span>\n",
       "<span style=\"color: #ff0000\">│</span> <span style=\"color: #808000\">C:\\Users\\Elisha\\Desktop\\rich\\examples\\&lt;ipython-input-4-27a54e350c82&gt;</span>:<span style=\"color: #0000ff\">5</span> in <span style=\"color: #00ff00\">divide_all</span>      <span style=\"color: #ff0000\">│</span>\n",
       "<span style=\"color: #ff0000\">│</span>                                                                                           <span style=\"color: #ff0000\">│</span>\n",
       "<span style=\"color: #ff0000\">│</span> <span style=\"color: #808000\">C:\\Users\\Elisha\\Desktop\\rich\\examples\\&lt;ipython-input-3-d07db48c69ff&gt;</span>:<span style=\"color: #0000ff\">4</span> in <span style=\"color: #00ff00\">divide_by</span>       <span style=\"color: #ff0000\">│</span>\n",
       "<span style=\"color: #ff0000\">╰───────────────────────────────────────────────────────────────────────────────────────────╯</span>\n",
       "<span style=\"color: #ff0000; font-weight: bold\">ZeroDivisionError: </span>division by zero\n",
       "</pre>\n"
      ],
      "text/plain": [
       "<rich.jupyter.JupyterRenderable at 0x1d640904ac0>"
      ]
     },
     "metadata": {},
     "output_type": "display_data"
    }
   ],
   "source": [
    "divide_all(DIVIDES)"
   ]
  }
 ],
 "metadata": {
  "kernelspec": {
   "display_name": "Python 3",
   "language": "python",
   "name": "python3"
  },
  "language_info": {
   "codemirror_mode": {
    "name": "ipython",
    "version": 3
   },
   "file_extension": ".py",
   "mimetype": "text/x-python",
   "name": "python",
   "nbconvert_exporter": "python",
   "pygments_lexer": "ipython3",
   "version": "3.8.5"
  }
 },
 "nbformat": 4,
 "nbformat_minor": 2
}
