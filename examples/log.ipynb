{
 "cells": [
  {
   "cell_type": "markdown",
   "metadata": {},
   "source": [
    "# A simulation of Rich console logging."
   ]
  },
  {
   "cell_type": "code",
   "execution_count": 1,
   "metadata": {},
   "outputs": [],
   "source": [
    "import time\n",
    "from rich.console import Console\n",
    "from rich.style import Style\n",
    "from rich.theme import Theme\n",
    "from rich.highlighter import RegexHighlighter"
   ]
  },
  {
   "cell_type": "code",
   "execution_count": 2,
   "metadata": {},
   "outputs": [],
   "source": [
    "class RequestHighlighter(RegexHighlighter):\n",
    "    base_style = \"req.\"\n",
    "    highlights = [\n",
    "        r\"^(?P<protocol>\\w+) (?P<method>\\w+) (?P<path>\\S+) (?P<result>\\w+) (?P<stats>\\[.+\\])$\",\n",
    "        r\"\\/(?P<filename>\\w+\\..{3,4})\",\n",
    "    ]"
   ]
  },
  {
   "cell_type": "code",
   "execution_count": 3,
   "metadata": {},
   "outputs": [],
   "source": [
    "theme = Theme(\n",
    "    {\n",
    "        \"req.protocol\": Style.parse(\"dim bold green\"),\n",
    "        \"req.method\": Style.parse(\"bold cyan\"),\n",
    "        \"req.path\": Style.parse(\"magenta\"),\n",
    "        \"req.filename\": Style.parse(\"bright_magenta\"),\n",
    "        \"req.result\": Style.parse(\"yellow\"),\n",
    "        \"req.stats\": Style.parse(\"dim\"),\n",
    "    }\n",
    ")\n",
    "console = Console(theme=theme)"
   ]
  },
  {
   "cell_type": "code",
   "execution_count": 4,
   "metadata": {},
   "outputs": [
    {
     "data": {
      "text/html": [
       "<pre style=\"white-space:pre;overflow-x:auto;line-height:normal;font-family:Menlo,'DejaVu Sans Mono',consolas,'Courier New',monospace\"><span style=\"color: #7fbfbf\">[13:44:06] </span>Server starting<span style=\"color: #808000\">...</span>                                <span style=\"color: #7f7f7f\">&lt;ipython-input-4-2da9ded22953&gt;:1</span>\n",
       "</pre>\n"
      ],
      "text/plain": [
       "<rich.jupyter.JupyterRenderable at 0x1f483b9f070>"
      ]
     },
     "metadata": {},
     "output_type": "display_data"
    },
    {
     "data": {
      "text/html": [
       "<pre style=\"white-space:pre;overflow-x:auto;line-height:normal;font-family:Menlo,'DejaVu Sans Mono',consolas,'Courier New',monospace\"><span style=\"color: #7fbfbf\">           </span>Serving on <span style=\"color: #0000ff; text-decoration: underline\">http://127.0.0.1:8000</span>                  <span style=\"color: #7f7f7f\">&lt;ipython-input-4-2da9ded22953&gt;:2</span>\n",
       "</pre>\n"
      ],
      "text/plain": [
       "<rich.jupyter.JupyterRenderable at 0x1f483baa430>"
      ]
     },
     "metadata": {},
     "output_type": "display_data"
    }
   ],
   "source": [
    "console.log(\"Server starting...\")\n",
    "console.log(\"Serving on http://127.0.0.1:8000\")"
   ]
  },
  {
   "cell_type": "code",
   "execution_count": 5,
   "metadata": {},
   "outputs": [],
   "source": [
    "request_highlighter = RequestHighlighter()"
   ]
  },
  {
   "cell_type": "code",
   "execution_count": 6,
   "metadata": {},
   "outputs": [
    {
     "data": {
      "text/html": [
       "<pre style=\"white-space:pre;overflow-x:auto;line-height:normal;font-family:Menlo,'DejaVu Sans Mono',consolas,'Courier New',monospace\"><span style=\"color: #7fbfbf\">[13:44:22] </span><span style=\"color: #7fbf7f; font-weight: bold\">HTTP</span> <span style=\"color: #008080; font-weight: bold\">GET</span> <span style=\"color: #800080\">/foo/bar/baz/</span><span style=\"color: #ff00ff\">egg.html</span> <span style=\"color: #808000\">200</span> <span style=\"color: #7f7f7f\">[0.57, </span>        <span style=\"color: #7f7f7f\">&lt;ipython-input-6-a6849bee7376&gt;:1</span>\n",
       "           <span style=\"color: #7f7f7f\">127.0.0.1:59076]</span>                                                                  \n",
       "</pre>\n"
      ],
      "text/plain": [
       "<rich.jupyter.JupyterRenderable at 0x1f483b9f2b0>"
      ]
     },
     "metadata": {},
     "output_type": "display_data"
    }
   ],
   "source": [
    "console.log(\n",
    "    request_highlighter(\"HTTP GET /foo/bar/baz/egg.html 200 [0.57, 127.0.0.1:59076]\"),\n",
    ")"
   ]
  },
  {
   "cell_type": "code",
   "execution_count": 7,
   "metadata": {},
   "outputs": [
    {
     "data": {
      "text/html": [
       "<pre style=\"white-space:pre;overflow-x:auto;line-height:normal;font-family:Menlo,'DejaVu Sans Mono',consolas,'Courier New',monospace\"><span style=\"color: #7fbfbf\">[13:44:29] </span><span style=\"color: #7fbf7f; font-weight: bold\">HTTP</span> <span style=\"color: #008080; font-weight: bold\">GET</span> <span style=\"color: #800080\">/foo/bar/baz/</span><span style=\"color: #ff00ff\">background.jpg </span><span style=\"color: #808000\">200</span> <span style=\"color: #7f7f7f\">[0.57, </span>  <span style=\"color: #7f7f7f\">&lt;ipython-input-7-888e2b73573e&gt;:1</span>\n",
       "           <span style=\"color: #7f7f7f\">127.0.0.1:59076]</span>                                                                  \n",
       "</pre>\n"
      ],
      "text/plain": [
       "<rich.jupyter.JupyterRenderable at 0x1f483d7daf0>"
      ]
     },
     "metadata": {},
     "output_type": "display_data"
    }
   ],
   "source": [
    "console.log(\n",
    "    request_highlighter(\n",
    "        \"HTTP GET /foo/bar/baz/background.jpg 200 [0.57, 127.0.0.1:59076]\"\n",
    "    ),\n",
    ")"
   ]
  },
  {
   "cell_type": "code",
   "execution_count": 8,
   "metadata": {},
   "outputs": [],
   "source": [
    "def test_locals():\n",
    "    foo = (1, 2, 3)\n",
    "    movies = [\"Deadpool\", \"Rise of the Skywalker\"]\n",
    "    console = Console()\n",
    "\n",
    "    console.log(\n",
    "        \"[b]JSON[/b] RPC [i]batch[/i]\",\n",
    "        [\n",
    "            {\"jsonrpc\": \"2.0\", \"method\": \"sum\", \"params\": [1, 2, 4], \"id\": \"1\"},\n",
    "            {\"jsonrpc\": \"2.0\", \"method\": \"notify_hello\", \"params\": [7]},\n",
    "            {\"jsonrpc\": \"2.0\", \"method\": \"subtract\", \"params\": [42, 23], \"id\": \"2\"},\n",
    "            {\"foo\": \"boo\"},\n",
    "            {\n",
    "                \"jsonrpc\": \"2.0\",\n",
    "                \"method\": \"foo.get\",\n",
    "                \"params\": {\"name\": \"myself\", \"enable\": False, \"grommits\": None},\n",
    "                \"id\": \"5\",\n",
    "            },\n",
    "            {\"jsonrpc\": \"2.0\", \"method\": \"get_data\", \"id\": \"9\"},\n",
    "        ],\n",
    "        log_locals=True,\n",
    "    )"
   ]
  },
  {
   "cell_type": "code",
   "execution_count": 9,
   "metadata": {},
   "outputs": [
    {
     "data": {
      "text/html": [
       "<pre style=\"white-space:pre;overflow-x:auto;line-height:normal;font-family:Menlo,'DejaVu Sans Mono',consolas,'Courier New',monospace\"><span style=\"color: #7fbfbf\">[13:44:54] </span><span style=\"font-weight: bold\">JSON</span> RPC <span style=\"font-style: italic\">batch</span>                                    <span style=\"color: #7f7f7f\">&lt;ipython-input-8-8ba6237d3b0e&gt;:6</span>\n",
       "           <span style=\"font-weight: bold\">[</span>                                                                                 \n",
       "               <span style=\"font-weight: bold\">{</span>                                                                             \n",
       "                   <span style=\"color: #008000\">'jsonrpc'</span>: <span style=\"color: #008000\">'2.0'</span>,                                                         \n",
       "                   <span style=\"color: #008000\">'method'</span>: <span style=\"color: #008000\">'sum'</span>,                                                          \n",
       "                   <span style=\"color: #008000\">'params'</span>: <span style=\"font-weight: bold\">[</span><span style=\"color: #000080; font-weight: bold\">1</span>, <span style=\"color: #000080; font-weight: bold\">2</span>, <span style=\"color: #000080; font-weight: bold\">4</span><span style=\"font-weight: bold\">]</span>,                                                      \n",
       "                   <span style=\"color: #008000\">'id'</span>: <span style=\"color: #008000\">'1'</span>                                                                 \n",
       "               <span style=\"font-weight: bold\">}</span>,                                                                            \n",
       "               <span style=\"font-weight: bold\">{</span>                                                                             \n",
       "                   <span style=\"color: #008000\">'jsonrpc'</span>: <span style=\"color: #008000\">'2.0'</span>,                                                         \n",
       "                   <span style=\"color: #008000\">'method'</span>: <span style=\"color: #008000\">'notify_hello'</span>,                                                 \n",
       "                   <span style=\"color: #008000\">'params'</span>: <span style=\"font-weight: bold\">[</span><span style=\"color: #000080; font-weight: bold\">7</span><span style=\"font-weight: bold\">]</span>                                                             \n",
       "               <span style=\"font-weight: bold\">}</span>,                                                                            \n",
       "               <span style=\"font-weight: bold\">{</span>                                                                             \n",
       "                   <span style=\"color: #008000\">'jsonrpc'</span>: <span style=\"color: #008000\">'2.0'</span>,                                                         \n",
       "                   <span style=\"color: #008000\">'method'</span>: <span style=\"color: #008000\">'subtract'</span>,                                                     \n",
       "                   <span style=\"color: #008000\">'params'</span>: <span style=\"font-weight: bold\">[</span><span style=\"color: #000080; font-weight: bold\">42</span>, <span style=\"color: #000080; font-weight: bold\">23</span><span style=\"font-weight: bold\">]</span>,                                                       \n",
       "                   <span style=\"color: #008000\">'id'</span>: <span style=\"color: #008000\">'2'</span>                                                                 \n",
       "               <span style=\"font-weight: bold\">}</span>,                                                                            \n",
       "               <span style=\"font-weight: bold\">{</span><span style=\"color: #008000\">'foo'</span>: <span style=\"color: #008000\">'boo'</span><span style=\"font-weight: bold\">}</span>,                                                               \n",
       "               <span style=\"font-weight: bold\">{</span>                                                                             \n",
       "                   <span style=\"color: #008000\">'jsonrpc'</span>: <span style=\"color: #008000\">'2.0'</span>,                                                         \n",
       "                   <span style=\"color: #008000\">'method'</span>: <span style=\"color: #008000\">'foo.get'</span>,                                                      \n",
       "                   <span style=\"color: #008000\">'params'</span>: <span style=\"font-weight: bold\">{</span>                                                               \n",
       "                       <span style=\"color: #008000\">'name'</span>: <span style=\"color: #008000\">'myself'</span>,                                                     \n",
       "                       <span style=\"color: #008000\">'enable'</span>: <span style=\"color: #ff0000; font-style: italic\">False</span>,                                                      \n",
       "                       <span style=\"color: #008000\">'grommits'</span>: <span style=\"color: #800080; font-style: italic\">None</span>                                                      \n",
       "                   <span style=\"font-weight: bold\">}</span>,                                                                        \n",
       "                   <span style=\"color: #008000\">'id'</span>: <span style=\"color: #008000\">'5'</span>                                                                 \n",
       "               <span style=\"font-weight: bold\">}</span>,                                                                            \n",
       "               <span style=\"font-weight: bold\">{</span>                                                                             \n",
       "                   <span style=\"color: #008000\">'jsonrpc'</span>: <span style=\"color: #008000\">'2.0'</span>,                                                         \n",
       "                   <span style=\"color: #008000\">'method'</span>: <span style=\"color: #008000\">'get_data'</span>,                                                     \n",
       "                   <span style=\"color: #008000\">'id'</span>: <span style=\"color: #008000\">'9'</span>                                                                 \n",
       "               <span style=\"font-weight: bold\">}</span>                                                                             \n",
       "           <span style=\"font-weight: bold\">]</span>                                                                                 \n",
       "           <span style=\"color: #000080\">╭─────────────────── </span><span style=\"color: #000080; font-style: italic\">locals</span><span style=\"color: #000080\"> ────────────────────╮</span>                                 \n",
       "           <span style=\"color: #000080\">│</span> <span style=\"color: #808000; font-style: italic\">console</span><span style=\"color: #800000\"> =</span> <span style=\"font-weight: bold\">&lt;</span><span style=\"color: #ff00ff; font-weight: bold\">console</span><span style=\"color: #000000\"> </span><span style=\"color: #808000\">width</span><span style=\"color: #000000\">=</span><span style=\"color: #000080; font-weight: bold\">93</span><span style=\"color: #000000\"> </span>                  <span style=\"color: #000080\">│</span>                                 \n",
       "           <span style=\"color: #000080\">│</span>           <span style=\"color: #000000\">ColorSystem.TRUECOLOR</span><span style=\"font-weight: bold\">&gt;</span>              <span style=\"color: #000080\">│</span>                                 \n",
       "           <span style=\"color: #000080\">│</span>     <span style=\"color: #808000; font-style: italic\">foo</span><span style=\"color: #800000\"> =</span> <span style=\"font-weight: bold\">(</span><span style=\"color: #000080; font-weight: bold\">1</span>, <span style=\"color: #000080; font-weight: bold\">2</span>, <span style=\"color: #000080; font-weight: bold\">3</span><span style=\"font-weight: bold\">)</span>                           <span style=\"color: #000080\">│</span>                                 \n",
       "           <span style=\"color: #000080\">│</span>  <span style=\"color: #808000; font-style: italic\">movies</span><span style=\"color: #800000\"> =</span> <span style=\"font-weight: bold\">[</span>                                   <span style=\"color: #000080\">│</span>                                 \n",
       "           <span style=\"color: #000080\">│</span>               <span style=\"color: #008000\">'Deadpool'</span>,                     <span style=\"color: #000080\">│</span>                                 \n",
       "           <span style=\"color: #000080\">│</span>               <span style=\"color: #008000\">'Rise of the Skywalker'</span>         <span style=\"color: #000080\">│</span>                                 \n",
       "           <span style=\"color: #000080\">│</span>           <span style=\"font-weight: bold\">]</span>                                   <span style=\"color: #000080\">│</span>                                 \n",
       "           <span style=\"color: #000080\">╰───────────────────────────────────────────────╯</span>                                 \n",
       "</pre>\n"
      ],
      "text/plain": [
       "<rich.jupyter.JupyterRenderable at 0x1f483baa790>"
      ]
     },
     "metadata": {},
     "output_type": "display_data"
    }
   ],
   "source": [
    "test_locals()"
   ]
  }
 ],
 "metadata": {
  "kernelspec": {
   "display_name": "Python 3",
   "language": "python",
   "name": "python3"
  },
  "language_info": {
   "codemirror_mode": {
    "name": "ipython",
    "version": 3
   },
   "file_extension": ".py",
   "mimetype": "text/x-python",
   "name": "python",
   "nbconvert_exporter": "python",
   "pygments_lexer": "ipython3",
   "version": "3.8.5"
  }
 },
 "nbformat": 4,
 "nbformat_minor": 2
}
