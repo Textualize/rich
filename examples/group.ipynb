{
 "cells": [
  {
   "cell_type": "code",
   "execution_count": 1,
   "metadata": {},
   "outputs": [],
   "source": [
    "from rich import print\n",
    "from rich.console import RenderGroup\n",
    "from rich.panel import Panel"
   ]
  },
  {
   "cell_type": "code",
   "execution_count": 2,
   "metadata": {},
   "outputs": [],
   "source": [
    "panel_group = RenderGroup(\n",
    "    Panel(\"Hello\", style=\"on blue\"),\n",
    "    Panel(\"World\", style=\"on red\"),\n",
    ")"
   ]
  },
  {
   "cell_type": "code",
   "execution_count": 3,
   "metadata": {},
   "outputs": [
    {
     "data": {
      "text/html": [
       "<pre style=\"white-space:pre;overflow-x:auto;line-height:normal;font-family:Menlo,'DejaVu Sans Mono',consolas,'Courier New',monospace\">╭───────────────────────────────────────────────────────────────────────────────────────────╮\n",
       "│ <span style=\"background-color: #000080\">╭───────────────────────────────────────────────────────────────────────────────────────╮</span> │\n",
       "│ <span style=\"background-color: #000080\">│ Hello                                                                                 │</span> │\n",
       "│ <span style=\"background-color: #000080\">╰───────────────────────────────────────────────────────────────────────────────────────╯</span> │\n",
       "│ <span style=\"background-color: #800000\">╭───────────────────────────────────────────────────────────────────────────────────────╮</span> │\n",
       "│ <span style=\"background-color: #800000\">│ World                                                                                 │</span> │\n",
       "│ <span style=\"background-color: #800000\">╰───────────────────────────────────────────────────────────────────────────────────────╯</span> │\n",
       "╰───────────────────────────────────────────────────────────────────────────────────────────╯\n",
       "</pre>\n"
      ],
      "text/plain": [
       "<rich.jupyter.JupyterRenderable at 0x19c5a3cfa30>"
      ]
     },
     "metadata": {},
     "output_type": "display_data"
    }
   ],
   "source": [
    "print(Panel(panel_group))"
   ]
  }
 ],
 "metadata": {
  "kernelspec": {
   "display_name": "Python 3",
   "language": "python",
   "name": "python3"
  },
  "language_info": {
   "codemirror_mode": {
    "name": "ipython",
    "version": 3
   },
   "file_extension": ".py",
   "mimetype": "text/x-python",
   "name": "python",
   "nbconvert_exporter": "python",
   "pygments_lexer": "ipython3",
   "version": "3.8.5"
  }
 },
 "nbformat": 4,
 "nbformat_minor": 2
}
